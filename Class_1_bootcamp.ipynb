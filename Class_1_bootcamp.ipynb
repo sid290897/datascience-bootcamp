{
  "nbformat": 4,
  "nbformat_minor": 0,
  "metadata": {
    "colab": {
      "name": "Class 1 - bootcamp",
      "provenance": [],
      "collapsed_sections": []
    },
    "kernelspec": {
      "name": "python3",
      "display_name": "Python 3"
    },
    "language_info": {
      "name": "python"
    }
  },
  "cells": [
    {
      "cell_type": "code",
      "metadata": {
        "colab": {
          "base_uri": "https://localhost:8080/"
        },
        "id": "wves3ABwdBBT",
        "outputId": "27edce8e-49e2-4f04-96eb-fe778c467122"
      },
      "source": [
        "import this"
      ],
      "execution_count": null,
      "outputs": [
        {
          "output_type": "stream",
          "text": [
            "The Zen of Python, by Tim Peters\n",
            "\n",
            "Beautiful is better than ugly.\n",
            "Explicit is better than implicit.\n",
            "Simple is better than complex.\n",
            "Complex is better than complicated.\n",
            "Flat is better than nested.\n",
            "Sparse is better than dense.\n",
            "Readability counts.\n",
            "Special cases aren't special enough to break the rules.\n",
            "Although practicality beats purity.\n",
            "Errors should never pass silently.\n",
            "Unless explicitly silenced.\n",
            "In the face of ambiguity, refuse the temptation to guess.\n",
            "There should be one-- and preferably only one --obvious way to do it.\n",
            "Although that way may not be obvious at first unless you're Dutch.\n",
            "Now is better than never.\n",
            "Although never is often better than *right* now.\n",
            "If the implementation is hard to explain, it's a bad idea.\n",
            "If the implementation is easy to explain, it may be a good idea.\n",
            "Namespaces are one honking great idea -- let's do more of those!\n"
          ],
          "name": "stdout"
        }
      ]
    },
    {
      "cell_type": "code",
      "metadata": {
        "id": "-3rlQUeXdbnx"
      },
      "source": [
        "##The help function is used to display the documentation of modules, functions, classes, etc\n",
        " "
      ],
      "execution_count": null,
      "outputs": []
    },
    {
      "cell_type": "code",
      "metadata": {
        "colab": {
          "base_uri": "https://localhost:8080/"
        },
        "id": "xDpKSwgXduzQ",
        "outputId": "005f92c9-204e-413b-e3da-7376b656e08a"
      },
      "source": [
        "help(print) ##getting to know what all can be done with the print function"
      ],
      "execution_count": null,
      "outputs": [
        {
          "output_type": "stream",
          "text": [
            "Help on built-in function print in module builtins:\n",
            "\n",
            "print(...)\n",
            "    print(value, ..., sep=' ', end='\\n', file=sys.stdout, flush=False)\n",
            "    \n",
            "    Prints the values to a stream, or to sys.stdout by default.\n",
            "    Optional keyword arguments:\n",
            "    file:  a file-like object (stream); defaults to the current sys.stdout.\n",
            "    sep:   string inserted between values, default a space.\n",
            "    end:   string appended after the last value, default a newline.\n",
            "    flush: whether to forcibly flush the stream.\n",
            "\n"
          ],
          "name": "stdout"
        }
      ]
    },
    {
      "cell_type": "code",
      "metadata": {
        "colab": {
          "base_uri": "https://localhost:8080/"
        },
        "id": "W_LjS1UXeWLo",
        "outputId": "d1277833-f46f-4dc0-9a7f-dd1d922b0813"
      },
      "source": [
        "## accesing attributes /methods of any object to understand pre-loaded attributes\n",
        "import math\n",
        "dir(math) ##checking attributes in the math library"
      ],
      "execution_count": null,
      "outputs": [
        {
          "output_type": "execute_result",
          "data": {
            "text/plain": [
              "['__doc__',\n",
              " '__loader__',\n",
              " '__name__',\n",
              " '__package__',\n",
              " '__spec__',\n",
              " 'acos',\n",
              " 'acosh',\n",
              " 'asin',\n",
              " 'asinh',\n",
              " 'atan',\n",
              " 'atan2',\n",
              " 'atanh',\n",
              " 'ceil',\n",
              " 'copysign',\n",
              " 'cos',\n",
              " 'cosh',\n",
              " 'degrees',\n",
              " 'e',\n",
              " 'erf',\n",
              " 'erfc',\n",
              " 'exp',\n",
              " 'expm1',\n",
              " 'fabs',\n",
              " 'factorial',\n",
              " 'floor',\n",
              " 'fmod',\n",
              " 'frexp',\n",
              " 'fsum',\n",
              " 'gamma',\n",
              " 'gcd',\n",
              " 'hypot',\n",
              " 'inf',\n",
              " 'isclose',\n",
              " 'isfinite',\n",
              " 'isinf',\n",
              " 'isnan',\n",
              " 'ldexp',\n",
              " 'lgamma',\n",
              " 'log',\n",
              " 'log10',\n",
              " 'log1p',\n",
              " 'log2',\n",
              " 'modf',\n",
              " 'nan',\n",
              " 'pi',\n",
              " 'pow',\n",
              " 'radians',\n",
              " 'remainder',\n",
              " 'sin',\n",
              " 'sinh',\n",
              " 'sqrt',\n",
              " 'tan',\n",
              " 'tanh',\n",
              " 'tau',\n",
              " 'trunc']"
            ]
          },
          "metadata": {
            "tags": []
          },
          "execution_count": 4
        }
      ]
    },
    {
      "cell_type": "code",
      "metadata": {
        "colab": {
          "base_uri": "https://localhost:8080/"
        },
        "id": "bysn1B1AfvsX",
        "outputId": "9b3b9c44-8997-4031-9ab4-7753622a662a"
      },
      "source": [
        "##Class string\n",
        "##data types that can be assigned in python (given in bootcamp course)\n",
        "## data type assignment at initialisation may not be required as python is dynamically typed language\n",
        "name = \"John\" + \"Smith\" ##printing concatenation of the string type\n",
        "print(name)\n",
        "print(type(name))"
      ],
      "execution_count": null,
      "outputs": [
        {
          "output_type": "stream",
          "text": [
            "JohnSmith\n",
            "<class 'str'>\n"
          ],
          "name": "stdout"
        }
      ]
    },
    {
      "cell_type": "code",
      "metadata": {
        "colab": {
          "base_uri": "https://localhost:8080/"
        },
        "id": "_FAq8iMRhF9o",
        "outputId": "29fcda49-607b-4b24-f233-35d15cc2fa2f"
      },
      "source": [
        "##class integer\n",
        "x = 10\n",
        "print(x)\n",
        "print(type(x)) ## note that this datatype can be type-casted"
      ],
      "execution_count": null,
      "outputs": [
        {
          "output_type": "stream",
          "text": [
            "10\n",
            "<class 'int'>\n"
          ],
          "name": "stdout"
        }
      ]
    },
    {
      "cell_type": "markdown",
      "metadata": {
        "id": "tmgYDDYXhq-X"
      },
      "source": [
        ""
      ]
    },
    {
      "cell_type": "code",
      "metadata": {
        "colab": {
          "base_uri": "https://localhost:8080/"
        },
        "id": "segBcr8rhsEg",
        "outputId": "830fabf6-3554-4917-8a3a-d834b79238f4"
      },
      "source": [
        "##class float\n",
        "decimal = 3.14\n",
        "print(decimal)\n",
        "print(type)"
      ],
      "execution_count": null,
      "outputs": [
        {
          "output_type": "stream",
          "text": [
            "3.14\n",
            "<class 'type'>\n"
          ],
          "name": "stdout"
        }
      ]
    },
    {
      "cell_type": "markdown",
      "metadata": {
        "id": "z9bIRbw4dgXi"
      },
      "source": [
        ""
      ]
    },
    {
      "cell_type": "code",
      "metadata": {
        "colab": {
          "base_uri": "https://localhost:8080/"
        },
        "id": "ROIc-_vziMUa",
        "outputId": "c5bd7cc4-5d2c-4357-9596-22f49817fc02"
      },
      "source": [
        "###lists (extremely essential for jobs)\n",
        "groceries = {'apples', 'kiwis', 'mangos'} ##this is how lists are typed in Python\n",
        "print(groceries)\n",
        "print(type(groceries))"
      ],
      "execution_count": null,
      "outputs": [
        {
          "output_type": "stream",
          "text": [
            "{'mangos', 'kiwis', 'apples'}\n",
            "<class 'set'>\n"
          ],
          "name": "stdout"
        }
      ]
    },
    {
      "cell_type": "code",
      "metadata": {
        "id": "hMjtYeqoin7g",
        "colab": {
          "base_uri": "https://localhost:8080/"
        },
        "outputId": "6b004c8f-4f1f-4b44-9ab2-3798c47cd63e"
      },
      "source": [
        "## class list, but tuples (these cannot be changed) ## multiple data types in one thing, for example a number and a string, also data pairs as in dictionaries\n",
        "a = [(1,2), (3,4,5), (6,7)]\n",
        "print(a)\n",
        "print(type(a))"
      ],
      "execution_count": null,
      "outputs": [
        {
          "output_type": "stream",
          "text": [
            "[(1, 2), (3, 4, 5), (6, 7)]\n",
            "<class 'list'>\n"
          ],
          "name": "stdout"
        }
      ]
    },
    {
      "cell_type": "code",
      "metadata": {
        "colab": {
          "base_uri": "https://localhost:8080/"
        },
        "id": "nJv3ZnjQ0ZqC",
        "outputId": "32fe43ed-89aa-4620-b384-02f1f5715929"
      },
      "source": [
        "##class set\n",
        "sets = set((1, 2, 3, 5))\n",
        "print(sets)\n",
        "print(type(sets))"
      ],
      "execution_count": null,
      "outputs": [
        {
          "output_type": "stream",
          "text": [
            "{1, 2, 3, 5}\n",
            "<class 'set'>\n"
          ],
          "name": "stdout"
        }
      ]
    },
    {
      "cell_type": "code",
      "metadata": {
        "colab": {
          "base_uri": "https://localhost:8080/"
        },
        "id": "5q4eUzBW0xv6",
        "outputId": "113ac908-c80f-4bfd-ae4e-b96d7ffe2d5c"
      },
      "source": [
        "##class dictionary\n",
        "hpc = {'Harry': 'Wizard', 'Dumbledore': 'Headmaster', 'Snape':'Dark Arts'} ##rememeber to use curly braces\n",
        "print(hpc)\n",
        "print(type(hpc))"
      ],
      "execution_count": null,
      "outputs": [
        {
          "output_type": "stream",
          "text": [
            "{'Harry': 'Wizard', 'Dumbledore': 'Headmaster', 'Snape': 'Dark Arts'}\n",
            "<class 'dict'>\n"
          ],
          "name": "stdout"
        }
      ]
    },
    {
      "cell_type": "code",
      "metadata": {
        "colab": {
          "base_uri": "https://localhost:8080/"
        },
        "id": "qQOw1P4K1Yc4",
        "outputId": "4b9cc0ea-e793-4dfb-c443-289af0e82bcd"
      },
      "source": [
        "## class boolean\n",
        "boolean = True\n",
        "print('Boolean:', boolean)\n",
        "print(type(boolean))"
      ],
      "execution_count": null,
      "outputs": [
        {
          "output_type": "stream",
          "text": [
            "Boolean: True\n",
            "<class 'bool'>\n"
          ],
          "name": "stdout"
        }
      ]
    },
    {
      "cell_type": "code",
      "metadata": {
        "colab": {
          "base_uri": "https://localhost:8080/"
        },
        "id": "DOthG9y-4Afk",
        "outputId": "3520e61e-3699-472a-e47b-363532cba429"
      },
      "source": [
        "##None Type\n",
        "none_type = None\n",
        "print(type(none_type))"
      ],
      "execution_count": null,
      "outputs": [
        {
          "output_type": "stream",
          "text": [
            "<class 'NoneType'>\n"
          ],
          "name": "stdout"
        }
      ]
    },
    {
      "cell_type": "code",
      "metadata": {
        "colab": {
          "base_uri": "https://localhost:8080/"
        },
        "id": "oyatEQJE43ub",
        "outputId": "d2990e68-bc7f-4f07-b1ac-0949d5b7c452"
      },
      "source": [
        "## commonly used operators in python\n",
        "a = 10\n",
        "b = 4\n",
        "print('Add:', a+b)\n",
        "print('Subtract:', a-b)\n",
        "print('Divide', a/b) #returns the value in float\n",
        "print('Multiply', a*b)\n",
        "print('Floor Division:', a/b)\n",
        "print('Mod:', a%b) #returns the value in integer\n",
        "print('Power', a**b)"
      ],
      "execution_count": null,
      "outputs": [
        {
          "output_type": "stream",
          "text": [
            "Add: 14\n",
            "Subtract: 6\n",
            "Divide 2.5\n",
            "Multiply 40\n",
            "Floor Division: 2.5\n",
            "Mod: 2\n",
            "Power 10000\n"
          ],
          "name": "stdout"
        }
      ]
    },
    {
      "cell_type": "code",
      "metadata": {
        "colab": {
          "base_uri": "https://localhost:8080/"
        },
        "id": "5BWi2kZUU6_7",
        "outputId": "e51c2760-63e4-41ec-ae27-a03b3b602333"
      },
      "source": [
        "##variable swapping techniques\n",
        "a = 10\n",
        "b = 6\n",
        "print('a and b before swapping:', a,b)\n",
        "a, b = b, a\n",
        "print('a and b after swapping', a,b)\n",
        "\n"
      ],
      "execution_count": null,
      "outputs": [
        {
          "output_type": "stream",
          "text": [
            "a and b before swapping: 10 6\n",
            "a and b after swapping 6 10\n"
          ],
          "name": "stdout"
        }
      ]
    },
    {
      "cell_type": "code",
      "metadata": {
        "colab": {
          "base_uri": "https://localhost:8080/"
        },
        "id": "2VLzMROYVxg0",
        "outputId": "27422431-97a2-4a96-a397-468f05515f14"
      },
      "source": [
        "## swapping three variables ##be mindful of not writing all three variables in the same line\n",
        "a = 3 \n",
        "b = 4 \n",
        "c = 5\n",
        "print('a and b before swapping:', a, b, c)\n",
        "\n",
        "a, b, c = c, a, b\n",
        "print('a, b, c after swapping:', a, b ,c)"
      ],
      "execution_count": null,
      "outputs": [
        {
          "output_type": "stream",
          "text": [
            "a and b before swapping: 3 4 5\n",
            "a, b, c after swapping: 5 3 4\n"
          ],
          "name": "stdout"
        }
      ]
    },
    {
      "cell_type": "code",
      "metadata": {
        "id": "49gBnsNKWziG"
      },
      "source": [
        "##swapping with different data types\n"
      ],
      "execution_count": null,
      "outputs": []
    },
    {
      "cell_type": "code",
      "metadata": {
        "colab": {
          "base_uri": "https://localhost:8080/"
        },
        "id": "xxCVi4zuXncP",
        "outputId": "4302e14e-86a7-43bc-c4e1-a14b3e45042e"
      },
      "source": [
        "## swapping three variables ##be mindful of not writing all three variables in the same line\n",
        "a = 3 \n",
        "b = 4 \n",
        "c = 'sid' #string data type\n",
        "print('a and b before swapping:', a, b, c)\n",
        "\n",
        "a, b, c = c, a, b\n",
        "print('a, b, c after swapping:', a, b ,c)"
      ],
      "execution_count": null,
      "outputs": [
        {
          "output_type": "stream",
          "text": [
            "a and b before swapping: 3 4 sid\n",
            "a, b, c after swapping: sid 3 4\n"
          ],
          "name": "stdout"
        }
      ]
    },
    {
      "cell_type": "code",
      "metadata": {
        "colab": {
          "base_uri": "https://localhost:8080/"
        },
        "id": "coYA_s4KXsuG",
        "outputId": "635dba79-c3f7-49a2-dcbc-b8d15f78a083"
      },
      "source": [
        "##type casting in python\n",
        "## string to integer\n",
        "x = '10'\n",
        "print(type(x))\n",
        "print('integer typecasted is:', int(x))\n",
        "print(type(x))"
      ],
      "execution_count": null,
      "outputs": [
        {
          "output_type": "stream",
          "text": [
            "<class 'str'>\n",
            "integer typecasted is: 10\n",
            "<class 'str'>\n"
          ],
          "name": "stdout"
        }
      ]
    },
    {
      "cell_type": "code",
      "metadata": {
        "colab": {
          "base_uri": "https://localhost:8080/"
        },
        "id": "Dd8DgrP-cCR_",
        "outputId": "70c629dd-fe75-42ca-edfc-51dbe7f7cb29"
      },
      "source": [
        "#string to float\n",
        "print('float typecasted is:', float(x))"
      ],
      "execution_count": null,
      "outputs": [
        {
          "output_type": "stream",
          "text": [
            "float typecasted is: 10.0\n"
          ],
          "name": "stdout"
        }
      ]
    },
    {
      "cell_type": "code",
      "metadata": {
        "colab": {
          "base_uri": "https://localhost:8080/"
        },
        "id": "oXOPfDV0cb1M",
        "outputId": "e7b53d48-c407-4522-8115-60031cf74c67"
      },
      "source": [
        " x = '1' + '0' ## integer to string conversion and concatenation\n",
        "\n",
        "print('integer to string conversion:', x)"
      ],
      "execution_count": null,
      "outputs": [
        {
          "output_type": "stream",
          "text": [
            "integer to string conversion: 10\n"
          ],
          "name": "stdout"
        }
      ]
    },
    {
      "cell_type": "code",
      "metadata": {
        "colab": {
          "base_uri": "https://localhost:8080/"
        },
        "id": "wuen_BIUeOpu",
        "outputId": "e6727148-2360-4351-8d97-5aae5bc6760b"
      },
      "source": [
        "##switching from set to list\n",
        "s = set((1, 2, 3, 5, 8))\n",
        "list_s = list(s)\n",
        "print(list_s)"
      ],
      "execution_count": null,
      "outputs": [
        {
          "output_type": "stream",
          "text": [
            "[1, 2, 3, 5, 8]\n"
          ],
          "name": "stdout"
        }
      ]
    },
    {
      "cell_type": "code",
      "metadata": {
        "colab": {
          "base_uri": "https://localhost:8080/"
        },
        "id": "3EbFvFToeqyy",
        "outputId": "5f605784-9c0e-4828-f10b-e755d5975039"
      },
      "source": [
        "## switching from tuple to list\n",
        "tuples = ((1,2), (1, 'Ginny'), (4, 'Hogwarts'))\n",
        "\n",
        "list_tup = list(tuples)\n",
        "print(list_tup)"
      ],
      "execution_count": null,
      "outputs": [
        {
          "output_type": "stream",
          "text": [
            "[(1, 2), (1, 'Ginny'), (4, 'Hogwarts')]\n"
          ],
          "name": "stdout"
        }
      ]
    },
    {
      "cell_type": "code",
      "metadata": {
        "colab": {
          "base_uri": "https://localhost:8080/"
        },
        "id": "JiR10tE6fZE7",
        "outputId": "2af9e13f-77be-43f2-fba0-3a7db3d0608f"
      },
      "source": [
        "## ascii value of alpha-numeric characters\n",
        "print(chr(104))"
      ],
      "execution_count": null,
      "outputs": [
        {
          "output_type": "stream",
          "text": [
            "h\n"
          ],
          "name": "stdout"
        }
      ]
    },
    {
      "cell_type": "code",
      "metadata": {
        "colab": {
          "base_uri": "https://localhost:8080/"
        },
        "id": "QBFW-MHwfspX",
        "outputId": "621d95ba-8333-44d7-acd1-eff4b57bc8b5"
      },
      "source": [
        "## string to ascii\n",
        "print(ord('x'))"
      ],
      "execution_count": null,
      "outputs": [
        {
          "output_type": "stream",
          "text": [
            "120\n"
          ],
          "name": "stdout"
        }
      ]
    },
    {
      "cell_type": "code",
      "metadata": {
        "id": "FZ7NoSMigBju"
      },
      "source": [
        "##built in functions\n",
        "#RANDOM\n"
      ],
      "execution_count": null,
      "outputs": []
    },
    {
      "cell_type": "code",
      "metadata": {
        "colab": {
          "base_uri": "https://localhost:8080/"
        },
        "id": "ImAdva9GgSQU",
        "outputId": "c489540e-1fd8-4831-ef19-f175cc8c1206"
      },
      "source": [
        "##ascii equivalent of '9' is tab\n",
        "import random\n",
        "#adding the start and end parameters\n",
        "print('Generating a random value:', end='') ##end is used to print in the same line\n",
        "print(random.randint(6, 10)) ##range start and end are inclusive"
      ],
      "execution_count": null,
      "outputs": [
        {
          "output_type": "stream",
          "text": [
            "Generating a random value:7\n"
          ],
          "name": "stdout"
        }
      ]
    },
    {
      "cell_type": "markdown",
      "metadata": {
        "id": "8Mw0MQbmgI7j"
      },
      "source": [
        "## using the math library for faster math operations"
      ]
    },
    {
      "cell_type": "code",
      "metadata": {
        "colab": {
          "base_uri": "https://localhost:8080/"
        },
        "id": "1MUPbnRJiMX6",
        "outputId": "e9f6d8e1-5944-4349-ab10-34dfa708fbbb"
      },
      "source": [
        "import math\n",
        "\n",
        "print('in-built constant pi', math.pi)\n",
        "print('the square root of 2209 will be:', math.sqrt(2209))\n",
        "print('the floor value of 3.426 is:', math.floor(3.426))"
      ],
      "execution_count": null,
      "outputs": [
        {
          "output_type": "stream",
          "text": [
            "in-built constant pi 3.141592653589793\n",
            "the square root of 2209 will be: 47.0\n",
            "the floor value of 3.426 is: 3\n"
          ],
          "name": "stdout"
        }
      ]
    },
    {
      "cell_type": "code",
      "metadata": {
        "colab": {
          "base_uri": "https://localhost:8080/"
        },
        "id": "ekDgA43-iy7h",
        "outputId": "3f5cdd60-e428-4087-c4a4-0d7660491b43"
      },
      "source": [
        "##using the date-time method\n",
        "import datetime\n",
        "date=datetime.datetime.now() ##printing current date and time\n",
        "print(date)\n",
        "print(type(date)) ##note this has a unique class"
      ],
      "execution_count": null,
      "outputs": [
        {
          "output_type": "stream",
          "text": [
            "2021-06-27 23:46:30.339292\n",
            "<class 'datetime.datetime'>\n"
          ],
          "name": "stdout"
        }
      ]
    },
    {
      "cell_type": "code",
      "metadata": {
        "id": "uNa4WNDR4FCB",
        "colab": {
          "base_uri": "https://localhost:8080/"
        },
        "outputId": "bcffb8af-0c5c-487b-8ffb-0b768f05510b"
      },
      "source": [
        "#Lists!\n",
        "##initialising a list\n",
        "list_1 = list()\n",
        "print()\n",
        "\n",
        "##data type of the list variable\n",
        "print('list_1:', type(list_1))\n",
        "print('\\n')\n",
        "\n",
        "##defining and printing a numeric list\n",
        "list_num = [1, 2, 3, 4]\n",
        "print('list_num:', list_num)\n",
        "print('\\n')\n",
        "\n",
        "##list with objects (multiple data types)\n",
        "list_object = ['1', '5', 347, '%']\n",
        "print('list_object:', list_object)\n",
        "\n",
        "\n",
        "list_operator = [1*2, 'art'+'ist', 10/2] ## mathetimatical operator auto included in list, string concatenation and mathematical operators together in the list (multiple data types)\n",
        "print('list_ops:', list_operator)\n"
      ],
      "execution_count": null,
      "outputs": [
        {
          "output_type": "stream",
          "text": [
            "\n",
            "list_1: <class 'list'>\n",
            "\n",
            "\n",
            "list_num: [1, 2, 3, 4]\n",
            "\n",
            "\n",
            "list_object: ['1', '5', 347, '%']\n",
            "list_ops: [2, 'artist', 5.0]\n"
          ],
          "name": "stdout"
        }
      ]
    },
    {
      "cell_type": "code",
      "metadata": {
        "colab": {
          "base_uri": "https://localhost:8080/"
        },
        "id": "jBZrebvkx4y0",
        "outputId": "71d2e289-4ce2-4fd5-ade4-ad45c1267ad3"
      },
      "source": [
        "### accesing values from a list (python does allow negative indexing)\n",
        "print(list_object)\n",
        "print('First element:',list_object[0] )"
      ],
      "execution_count": null,
      "outputs": [
        {
          "output_type": "stream",
          "text": [
            "['1', '5', 347, '%']\n",
            "First element: 1\n"
          ],
          "name": "stdout"
        }
      ]
    },
    {
      "cell_type": "markdown",
      "metadata": {
        "id": "xU09A2qxjCR9"
      },
      "source": [
        ""
      ]
    },
    {
      "cell_type": "code",
      "metadata": {
        "colab": {
          "base_uri": "https://localhost:8080/"
        },
        "id": "5H2CMxvpzBjs",
        "outputId": "3e8c0782-3659-46de-f155-9af437b29077"
      },
      "source": [
        "## executing all values from beginning to end\n",
        "print(list_object[:])"
      ],
      "execution_count": null,
      "outputs": [
        {
          "output_type": "stream",
          "text": [
            "['1', '5', 347, '%']\n"
          ],
          "name": "stdout"
        }
      ]
    },
    {
      "cell_type": "code",
      "metadata": {
        "colab": {
          "base_uri": "https://localhost:8080/"
        },
        "id": "eB9FjqY2zffp",
        "outputId": "9a80341b-98bb-4e47-97a2-3406188d3203"
      },
      "source": [
        "##skipping a few values (note python ranges are inclusive)\n",
        "print(list_object[0:3:2]) ##at one step i.e every second value within the range is printed "
      ],
      "execution_count": null,
      "outputs": [
        {
          "output_type": "stream",
          "text": [
            "['1', 347]\n"
          ],
          "name": "stdout"
        }
      ]
    },
    {
      "cell_type": "code",
      "metadata": {
        "id": "JNepyi6v0bWm"
      },
      "source": [
        "##negative elements\n"
      ],
      "execution_count": null,
      "outputs": []
    },
    {
      "cell_type": "markdown",
      "metadata": {
        "id": "40rZCfWy3r61"
      },
      "source": [
        "Modifying Lists"
      ]
    },
    {
      "cell_type": "code",
      "metadata": {
        "colab": {
          "base_uri": "https://localhost:8080/"
        },
        "id": "nHPDyzwz3uVr",
        "outputId": "f75b9579-e6c6-420c-fdc0-210d7c03252b"
      },
      "source": [
        "## adding objects or values to the list\n",
        "list_object.extend([0,1.2])\n",
        "print(list_object)"
      ],
      "execution_count": null,
      "outputs": [
        {
          "output_type": "stream",
          "text": [
            "['1', '5', 347, '%', 0, 1.2]\n"
          ],
          "name": "stdout"
        }
      ]
    },
    {
      "cell_type": "code",
      "metadata": {
        "colab": {
          "base_uri": "https://localhost:8080/"
        },
        "id": "m_wRKIG14Ngo",
        "outputId": "082630a1-35af-4362-e86c-89d307c657e3"
      },
      "source": [
        "##making range of value changes or adding elements/objects to the list at a specified range (while replacing existing items)\n",
        "subset_items = [10, 7, 9]\n",
        "list_object[0:3] = subset_items\n",
        "print(list_object)"
      ],
      "execution_count": null,
      "outputs": [
        {
          "output_type": "stream",
          "text": [
            "[10, 7, 9, '%', 0, 1.2]\n"
          ],
          "name": "stdout"
        }
      ]
    },
    {
      "cell_type": "code",
      "metadata": {
        "colab": {
          "base_uri": "https://localhost:8080/"
        },
        "id": "bqmV4v1X5I1M",
        "outputId": "2274a806-8e79-4fcf-d669-17f7d996dad9"
      },
      "source": [
        "##delete an element\n",
        "list_object = [1, 2, 12, 12, 12, 3, 4, 5, 6]\n",
        "list_object.pop(0) ##queue, pops the indexed element out of a list \n",
        "list_object.pop() ## stack (the element popped out in the first command is put back in, then stack pops out and gives the last element)\n",
        "list_object.pop(3) #index (last element)\n",
        "print(list_object)\n"
      ],
      "execution_count": 1,
      "outputs": [
        {
          "output_type": "execute_result",
          "data": {
            "text/plain": [
              "12"
            ]
          },
          "metadata": {
            "tags": []
          },
          "execution_count": 1
        }
      ]
    },
    {
      "cell_type": "code",
      "metadata": {
        "id": "x32zLNZoLvdM",
        "colab": {
          "base_uri": "https://localhost:8080/"
        },
        "outputId": "d04216db-2b14-44b7-8527-442e8cc27b99"
      },
      "source": [
        "##giving out error message when someone tries to remove a value from the list at a non-existent index position\n",
        "try:\n",
        "  list_object.remove(10)\n",
        "except:\n",
        "  print('element not in the list')\n",
        "print(list_object)"
      ],
      "execution_count": 2,
      "outputs": [
        {
          "output_type": "stream",
          "text": [
            "element not in the list\n",
            "[2, 12, 12, 3, 4, 5]\n"
          ],
          "name": "stdout"
        }
      ]
    },
    {
      "cell_type": "code",
      "metadata": {
        "colab": {
          "base_uri": "https://localhost:8080/"
        },
        "id": "juGokcnSlLPA",
        "outputId": "cc70cd86-6003-4fa9-bfc6-66f5618c1b24"
      },
      "source": [
        "#For Loop \n",
        "for i in range (0,5): ## note that the ending number is not inclusive in range same as in indexing\n",
        "  print(i, end = '')"
      ],
      "execution_count": 4,
      "outputs": [
        {
          "output_type": "stream",
          "text": [
            "01234"
          ],
          "name": "stdout"
        }
      ]
    },
    {
      "cell_type": "code",
      "metadata": {
        "colab": {
          "base_uri": "https://localhost:8080/"
        },
        "id": "PkEhuaJgtHWb",
        "outputId": "40367d10-4588-42ec-e401-76091fa276e5"
      },
      "source": [
        "## adding step parameter\n",
        "for i in range(10, 2, -2): ## here also the last step value is not included\n",
        "  print(i, end = '')"
      ],
      "execution_count": 5,
      "outputs": [
        {
          "output_type": "stream",
          "text": [
            "10864"
          ],
          "name": "stdout"
        }
      ]
    },
    {
      "cell_type": "code",
      "metadata": {
        "colab": {
          "base_uri": "https://localhost:8080/"
        },
        "id": "tTV6j0eTth86",
        "outputId": "1827edfe-f216-4db3-ac0a-77ac31be7102"
      },
      "source": [
        "## printing values from a list or printing values in the format of a list\n",
        "sums = [1, 1, 3, 5]\n",
        "for number in sums:\n",
        "  print(number)"
      ],
      "execution_count": 6,
      "outputs": [
        {
          "output_type": "stream",
          "text": [
            "1\n",
            "1\n",
            "3\n",
            "5\n"
          ],
          "name": "stdout"
        }
      ]
    },
    {
      "cell_type": "code",
      "metadata": {
        "colab": {
          "base_uri": "https://localhost:8080/"
        },
        "id": "fDPw6EfIuZFC",
        "outputId": "3aebd74e-b55d-4a16-9eff-e7d04416d800"
      },
      "source": [
        "## one-line loop (special type of loop) note here we didn't use colons\n",
        "sum_upto_10 = [i for i in range(11)]\n",
        "print(sum_upto_10)"
      ],
      "execution_count": 7,
      "outputs": [
        {
          "output_type": "stream",
          "text": [
            "[0, 1, 2, 3, 4, 5, 6, 7, 8, 9, 10]\n"
          ],
          "name": "stdout"
        }
      ]
    },
    {
      "cell_type": "code",
      "metadata": {
        "colab": {
          "base_uri": "https://localhost:8080/"
        },
        "id": "YRmIw-Un8U4P",
        "outputId": "1e1fc586-321f-4b47-a77e-90013245653c"
      },
      "source": [
        "##one liner nested for loop matrix multiplication note here we don't use colons\n",
        "matrix_mul = [j*i for i in range(5) for j in range(5, 10 )]\n",
        "print('matrix looks like:', matrix_mul)"
      ],
      "execution_count": 9,
      "outputs": [
        {
          "output_type": "stream",
          "text": [
            "matrix looks like: [0, 0, 0, 0, 0, 5, 6, 7, 8, 9, 10, 12, 14, 16, 18, 15, 18, 21, 24, 27, 20, 24, 28, 32, 36]\n"
          ],
          "name": "stdout"
        }
      ]
    },
    {
      "cell_type": "code",
      "metadata": {
        "colab": {
          "base_uri": "https://localhost:8080/"
        },
        "id": "6tJLfAGC9IrY",
        "outputId": "4d57cdea-78b8-454c-f7a9-794748198175"
      },
      "source": [
        "a = ['Hello', 'world', '!'] ##string data type\n",
        "print(len(a))\n",
        "## iterable method 1\n",
        "print('Iterable Method 1:') ##like we created dictionary pairs of our own\n",
        "for i in range(len(a)):\n",
        "  print(i,a[i])"
      ],
      "execution_count": 11,
      "outputs": [
        {
          "output_type": "stream",
          "text": [
            "3\n",
            "Iterable Method 1:\n",
            "0 Hello\n",
            "1 world\n",
            "2 !\n"
          ],
          "name": "stdout"
        }
      ]
    },
    {
      "cell_type": "code",
      "metadata": {
        "id": "IVHpWaU59xE0"
      },
      "source": [
        ""
      ],
      "execution_count": null,
      "outputs": []
    }
  ]
}